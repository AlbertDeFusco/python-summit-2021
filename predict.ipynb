{
 "cells": [
  {
   "cell_type": "markdown",
   "id": "collected-impossible",
   "metadata": {},
   "source": [
    "## The prediction function\n",
    "\n",
    "This function takes simple inputs to return the predicted number of rides."
   ]
  },
  {
   "cell_type": "code",
   "execution_count": 1,
   "id": "radio-recycling",
   "metadata": {},
   "outputs": [],
   "source": [
    "import joblib\n",
    "import pandas as pd\n",
    "from tranquilizer import tranquilize"
   ]
  },
  {
   "cell_type": "code",
   "execution_count": 2,
   "id": "broad-check",
   "metadata": {},
   "outputs": [],
   "source": [
    "model = joblib.load('model.pkl')"
   ]
  },
  {
   "cell_type": "markdown",
   "id": "objective-bobby",
   "metadata": {},
   "source": [
    "The `tranquilize` decorator will mark the function for the tranquilizer command-line tool to serve as a REST API endpoint.\n",
    "\n",
    "The *docstrings* become the description of the endpoint in the served Swagger documentation."
   ]
  },
  {
   "cell_type": "code",
   "execution_count": 3,
   "id": "extraordinary-breach",
   "metadata": {},
   "outputs": [],
   "source": [
    "@tranquilize(method='GET')\n",
    "def params() -> dict:\n",
    "    \"\"\"Return the parameters used to train the model\"\"\"\n",
    "    \n",
    "    return model.named_steps['gradientboostingregressor'].get_params()"
   ]
  },
  {
   "cell_type": "code",
   "execution_count": 4,
   "id": "dominant-pocket",
   "metadata": {},
   "outputs": [
    {
     "data": {
      "text/plain": [
       "{'alpha': 0.9,\n",
       " 'ccp_alpha': 0.0,\n",
       " 'criterion': 'friedman_mse',\n",
       " 'init': None,\n",
       " 'learning_rate': 0.1,\n",
       " 'loss': 'ls',\n",
       " 'max_depth': 3,\n",
       " 'max_features': None,\n",
       " 'max_leaf_nodes': None,\n",
       " 'min_impurity_decrease': 0.0,\n",
       " 'min_impurity_split': None,\n",
       " 'min_samples_leaf': 1,\n",
       " 'min_samples_split': 2,\n",
       " 'min_weight_fraction_leaf': 0.0,\n",
       " 'n_estimators': 800,\n",
       " 'n_iter_no_change': 5,\n",
       " 'random_state': None,\n",
       " 'subsample': 1.0,\n",
       " 'tol': 0.01,\n",
       " 'validation_fraction': 0.2,\n",
       " 'verbose': 0,\n",
       " 'warm_start': False}"
      ]
     },
     "execution_count": 4,
     "metadata": {},
     "output_type": "execute_result"
    }
   ],
   "source": [
    "params()"
   ]
  },
  {
   "cell_type": "markdown",
   "id": "efficient-house",
   "metadata": {},
   "source": [
    "Type hints are not required, but add input validation and data type convesion when a request is made. By default Tranquilizer assumes inputs are all strings."
   ]
  },
  {
   "cell_type": "code",
   "execution_count": 5,
   "id": "powered-cargo",
   "metadata": {},
   "outputs": [],
   "source": [
    "@tranquilize(method='POST')\n",
    "def predict(max_temp: float, month: str, weekend: bool, holiday: bool) -> int:\n",
    "    \"\"\"Predict the number of bikeshare rides in Pittsburgh\n",
    "    \n",
    "    :param max_temp: The forecasted maximum temperature in degrees Fahrenheit\n",
    "    :param month: The month (i.e, January)\n",
    "    :param holiday: Is today a holiday?\n",
    "    :param weekend: Is today a weekend?\n",
    "    \"\"\"\n",
    "\n",
    "    df = pd.DataFrame({\n",
    "        'max_temp': max_temp,\n",
    "        'month': month,\n",
    "        'holiday': holiday,\n",
    "        'weekend': weekend\n",
    "    }, index=[0])\n",
    "    \n",
    "    rides = model.predict(df)[0]\n",
    "    \n",
    "    return int(rides)"
   ]
  },
  {
   "cell_type": "markdown",
   "id": "noticed-bachelor",
   "metadata": {},
   "source": [
    "Our Python function hasn't changed and we can still run it here in the notebook."
   ]
  },
  {
   "cell_type": "code",
   "execution_count": 6,
   "id": "american-latitude",
   "metadata": {},
   "outputs": [
    {
     "data": {
      "text/plain": [
       "544"
      ]
     },
     "execution_count": 6,
     "metadata": {},
     "output_type": "execute_result"
    }
   ],
   "source": [
    "predict(85.0, 'July', True, False)"
   ]
  },
  {
   "cell_type": "markdown",
   "id": "whole-growth",
   "metadata": {},
   "source": [
    "Finally, launch the Tranquilizer server"
   ]
  },
  {
   "cell_type": "code",
   "execution_count": 7,
   "id": "experimental-river",
   "metadata": {
    "scrolled": true
   },
   "outputs": [
    {
     "name": "stdout",
     "output_type": "stream",
     "text": [
      " * Serving Flask app \"tranquilizer.application\" (lazy loading)\n",
      " * Environment: production\n",
      "\u001b[31m   WARNING: This is a development server. Do not use it in a production deployment.\u001b[0m\n",
      "\u001b[2m   Use a production WSGI server instead.\u001b[0m\n",
      " * Debug mode: off\n",
      " * Running on http://0.0.0.0:8086/ (Press CTRL+C to quit)\n",
      "127.0.0.1 - - [29/Mar/2021 19:32:23] \"\u001b[37mGET / HTTP/1.1\u001b[0m\" 200 -\n",
      "127.0.0.1 - - [29/Mar/2021 19:32:23] \"\u001b[36mGET /swaggerui/droid-sans.css HTTP/1.1\u001b[0m\" 304 -\n",
      "127.0.0.1 - - [29/Mar/2021 19:32:23] \"\u001b[36mGET /swaggerui/swagger-ui.css HTTP/1.1\u001b[0m\" 304 -\n",
      "127.0.0.1 - - [29/Mar/2021 19:32:23] \"\u001b[37mGET /swaggerui/swagger-ui-standalone-preset.js HTTP/1.1\u001b[0m\" 200 -\n",
      "127.0.0.1 - - [29/Mar/2021 19:32:23] \"\u001b[37mGET /swaggerui/swagger-ui-bundle.js HTTP/1.1\u001b[0m\" 200 -\n",
      "127.0.0.1 - - [29/Mar/2021 19:32:24] \"\u001b[37mGET /swagger.json HTTP/1.1\u001b[0m\" 200 -\n",
      "127.0.0.1 - - [29/Mar/2021 19:32:24] \"\u001b[36mGET /swaggerui/favicon-32x32.png HTTP/1.1\u001b[0m\" 304 -\n",
      "^C\n"
     ]
    }
   ],
   "source": [
    "!tranquilizer --name Bikeshare predict.ipynb"
   ]
  }
 ],
 "metadata": {
  "kernelspec": {
   "display_name": "Python 3",
   "language": "python",
   "name": "python3"
  },
  "language_info": {
   "codemirror_mode": {
    "name": "ipython",
    "version": 3
   },
   "file_extension": ".py",
   "mimetype": "text/x-python",
   "name": "python",
   "nbconvert_exporter": "python",
   "pygments_lexer": "ipython3",
   "version": "3.8.8"
  }
 },
 "nbformat": 4,
 "nbformat_minor": 5
}
