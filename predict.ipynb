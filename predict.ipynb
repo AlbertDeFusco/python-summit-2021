{
 "cells": [
  {
   "cell_type": "markdown",
   "id": "collected-impossible",
   "metadata": {},
   "source": [
    "## The prediction function\n",
    "\n",
    "This function takes simple inputs to return the predicted number of rides."
   ]
  },
  {
   "cell_type": "code",
   "execution_count": 1,
   "id": "radio-recycling",
   "metadata": {},
   "outputs": [],
   "source": [
    "import joblib\n",
    "import pandas as pd\n",
    "from tranquilizer import tranquilize"
   ]
  },
  {
   "cell_type": "markdown",
   "id": "every-invalid",
   "metadata": {},
   "source": [
    "The `tranquilize` decorator will mark the function for the tranquilizer command-line tool to serve as a REST API endpoint."
   ]
  },
  {
   "cell_type": "code",
   "execution_count": 2,
   "id": "powered-cargo",
   "metadata": {},
   "outputs": [],
   "source": [
    "model = joblib.load('model.pkl')\n",
    "\n",
    "@tranquilize(method='POST')\n",
    "def predict(max_temp: float, month: str, weekend: bool, holiday: bool) -> int:\n",
    "    df = pd.DataFrame({\n",
    "        'max_temp': max_temp,\n",
    "        'month': month,\n",
    "        'holiday': holiday,\n",
    "        'weekend': weekend\n",
    "    }, index=[0])\n",
    "    \n",
    "    rides = model.predict(df)[0]\n",
    "    \n",
    "    return int(rides)"
   ]
  },
  {
   "cell_type": "code",
   "execution_count": 3,
   "id": "american-latitude",
   "metadata": {},
   "outputs": [
    {
     "data": {
      "text/plain": [
       "511"
      ]
     },
     "execution_count": 3,
     "metadata": {},
     "output_type": "execute_result"
    }
   ],
   "source": [
    "predict(85.0, 'July', True, False)"
   ]
  },
  {
   "cell_type": "code",
   "execution_count": 4,
   "id": "experimental-river",
   "metadata": {},
   "outputs": [
    {
     "name": "stdout",
     "output_type": "stream",
     "text": [
      " * Serving Flask app \"tranquilizer.application\" (lazy loading)\n",
      " * Environment: production\n",
      "\u001b[31m   WARNING: This is a development server. Do not use it in a production deployment.\u001b[0m\n",
      "\u001b[2m   Use a production WSGI server instead.\u001b[0m\n",
      " * Debug mode: off\n",
      " * Running on http://0.0.0.0:8086/ (Press CTRL+C to quit)\n",
      "^C\n"
     ]
    }
   ],
   "source": [
    "!tranquilizer predict.ipynb"
   ]
  },
  {
   "cell_type": "code",
   "execution_count": null,
   "id": "creative-observer",
   "metadata": {},
   "outputs": [],
   "source": []
  }
 ],
 "metadata": {
  "kernelspec": {
   "display_name": "Python 3",
   "language": "python",
   "name": "python3"
  },
  "language_info": {
   "codemirror_mode": {
    "name": "ipython",
    "version": 3
   },
   "file_extension": ".py",
   "mimetype": "text/x-python",
   "name": "python",
   "nbconvert_exporter": "python",
   "pygments_lexer": "ipython3",
   "version": "3.8.8"
  }
 },
 "nbformat": 4,
 "nbformat_minor": 5
}
